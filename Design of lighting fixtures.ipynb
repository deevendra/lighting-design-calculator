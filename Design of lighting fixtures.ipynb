{
 "cells": [
  {
   "cell_type": "markdown",
   "metadata": {},
   "source": [
    "Design of the lighting arrangement of a workshop"
   ]
  },
  {
   "cell_type": "code",
   "execution_count": 4,
   "metadata": {},
   "outputs": [
    {
     "name": "stdout",
     "output_type": "stream",
     "text": [
      "area= 900\n",
      "spacing= 7.5\n",
      "rows= 2.0 \n",
      "columns= 8.0\n",
      "number of locations/fixtures= 16.0\n"
     ]
    }
   ],
   "source": [
    "#design of location/ fixtures\n",
    "l = 60 # length of the room \n",
    "b = 15 # width of the room \n",
    "h = 5  # mounting height of light i.e difference between working plane and fixture height \n",
    "shr =1.5  # spacing betwwen the fixtures to height ratio\n",
    "\"\"\"SHR is usually provided by manufacturer or standard values defined by different organization, for this example SHR is assumed to be 3:2\"\"\"\n",
    "s = shr*h\n",
    "area = l*b\n",
    "print (\"area=\",area)\n",
    "print ('spacing=',s)\n",
    "row=b/s\n",
    "col=l/s\n",
    "n = row*col\n",
    "print(\"rows=\",row,\"\\n\"\"columns=\",col)\n",
    "print(\"number of locations/fixtures=\",n)\n"
   ]
  },
  {
   "cell_type": "code",
   "execution_count": 5,
   "metadata": {},
   "outputs": [
    {
     "name": "stdout",
     "output_type": "stream",
     "text": [
      "total flux recieved/required on working plane in lumen= 90000\n",
      "flux emitted per fixture= 17578.124999999996\n",
      "wattage per fixture= 1098.6328124999998\n"
     ]
    }
   ],
   "source": [
    "#design of lamps/lights \n",
    "E = 100 # required flux density in lux\n",
    "e = 0.4 # efficiency of the lamp provided by manufacturer\n",
    "ef = 16 # efficacy of the lamp in lumen/wattprovided by manufacturer\n",
    "m = 0.8 # usually taken as 0.8\n",
    "f = E*area \n",
    "print(\"total flux recieved/required on working plane in lumen=\",f)\n",
    "fe = f/(n*e*m)\n",
    "print(\"flux emitted per fixture=\",fe)\n",
    "wl = fe/ef\n",
    "print(\"wattage per fixture=\",wl)\n",
    "# we can use a single light of wl watt or combination of n lights per fixture of wl/n watt\n"
   ]
  },
  {
   "cell_type": "code",
   "execution_count": 6,
   "metadata": {},
   "outputs": [
    {
     "name": "stdout",
     "output_type": "stream",
     "text": [
      "actual wattage per fixture=  1100\n",
      "actual flux emitted=  281600.0\n",
      "actual flux received =  90112.0\n",
      "actual flux density= 100.12444444444445\n"
     ]
    }
   ],
   "source": [
    "#actual illumination\n",
    "#let us take 5 light of 220 watt per fixture\n",
    "w=5*220\n",
    "print(\"actual wattage per fixture= \",w)\n",
    "fea= w*n*ef\n",
    "print(\"actual flux emitted= \",fea)\n",
    "fa= fea*e*m \n",
    "print(\"actual flux received = \", fa)\n",
    "Ea= fa/area\n",
    "print(\"actual flux density=\",Ea)"
   ]
  }
 ],
 "metadata": {
  "kernelspec": {
   "display_name": "Python 3",
   "language": "python",
   "name": "python3"
  },
  "language_info": {
   "codemirror_mode": {
    "name": "ipython",
    "version": 3
   },
   "file_extension": ".py",
   "mimetype": "text/x-python",
   "name": "python",
   "nbconvert_exporter": "python",
   "pygments_lexer": "ipython3",
   "version": "3.11.9"
  }
 },
 "nbformat": 4,
 "nbformat_minor": 2
}
